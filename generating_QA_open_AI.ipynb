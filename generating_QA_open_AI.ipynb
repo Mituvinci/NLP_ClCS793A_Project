{
 "cells": [
  {
   "cell_type": "code",
   "execution_count": null,
   "id": "51143af7",
   "metadata": {},
   "outputs": [],
   "source": [
    "import openai\n",
    "import os\n",
    "\n",
    "\n",
    "openai.api_key = 'API_KEY'\n",
    "\n",
    "def generate_qa_pairs(topic, num_pairs=5):\n",
    "    for i in range(1, num_pairs + 1):\n",
    "        try:\n",
    "            # Generate the question\n",
    "            question_prompt = f\"Generate a question about {topic}.\"\n",
    "            question_response = openai.Completion.create(\n",
    "                engine=\"text-davinci-003\",\n",
    "                prompt=question_prompt,\n",
    "                max_tokens=100  # Adjust as needed, 100 tokens roughly equals 500 words\n",
    "            )\n",
    "            question = question_response.choices[0].text.strip()\n",
    "\n",
    "            # Check if question exceeds 500 words\n",
    "            if len(question.split()) > 500:  # Highlighting the condition\n",
    "                continue\n",
    "\n",
    "            # Save the question\n",
    "            with open(f\"D:\\\\Halima's Data\\\\NLP\\\\project\\\\usingOpenAI\\\\question\\\\question_{i}.txt\", \"w\") as file:\n",
    "                file.write(question)\n",
    "\n",
    "            # Generate the answer\n",
    "            answer_prompt = f\"Answer the following question: {question}\"\n",
    "            answer_response = openai.Completion.create(\n",
    "                engine=\"text-davinci-003\",\n",
    "                prompt=answer_prompt,\n",
    "                max_tokens=4000  # Adjust as needed, 4000 tokens roughly equals 1000 words\n",
    "            )\n",
    "            answer = answer_response.choices[0].text.strip()\n",
    "\n",
    "            # Check if answer exceeds 1000 words\n",
    "            if len(answer.split()) > 1000:  # Highlighting the condition\n",
    "                continue\n",
    "\n",
    "            # Save the answer\n",
    "            with open(f\"D:\\\\Halima's Data\\\\NLP\\\\project\\\\usingOpenAI\\\\questions_answers\\\\question_ans_{i}.txt\", \"w\") as file:\n",
    "                file.write(answer)\n",
    "\n",
    "        except Exception as e:\n",
    "            print(f\"An error occurred: {e}\")\n",
    "\n",
    "# Array of topics\n",
    "topics = [\"RNA Seq Analysis\", \"ATAC Seq Analysis\",\"Genomics\", \"DESEq2\", \"Gene expression\"]\n",
    "\n",
    "# Loop through each topic and generate Q&A pairs\n",
    "for topic in topics:\n",
    "    generate_qa_pairs(topic, num_pairs=10)"
   ]
  }
 ],
 "metadata": {
  "kernelspec": {
   "display_name": "Python 3 (ipykernel)",
   "language": "python",
   "name": "python3"
  },
  "language_info": {
   "codemirror_mode": {
    "name": "ipython",
    "version": 3
   },
   "file_extension": ".py",
   "mimetype": "text/x-python",
   "name": "python",
   "nbconvert_exporter": "python",
   "pygments_lexer": "ipython3",
   "version": "3.9.12"
  }
 },
 "nbformat": 4,
 "nbformat_minor": 5
}
