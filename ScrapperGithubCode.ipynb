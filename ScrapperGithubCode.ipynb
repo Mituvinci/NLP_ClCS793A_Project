{
 "cells": [
  {
   "cell_type": "code",
   "execution_count": 21,
   "id": "7576d361",
   "metadata": {},
   "outputs": [],
   "source": [
    "import requests\n",
    "import base64\n",
    "import os\n",
    "import subprocess\n",
    "\n",
    "def get_readme_content(repo_full_name):\n",
    "    readme_endpoint = f'https://api.github.com/repos/{repo_full_name}/readme'\n",
    "    readme_response = requests.get(readme_endpoint)\n",
    "    if readme_response.status_code == 200:\n",
    "        readme_data = readme_response.json()\n",
    "        readme_content = base64.b64decode(readme_data['content']).decode('utf-8')\n",
    "        return readme_content\n",
    "    else:\n",
    "        return \"README content could not be retrieved.\"\n",
    "\n",
    "def save_content_to_file(folder_path, file_name, content):\n",
    "    file_path = os.path.join(folder_path, file_name)\n",
    "    with open(file_path, 'w', encoding='utf-8') as file:\n",
    "        file.write(content)\n",
    "\n",
    "        \n",
    "def clone_repository(repo_url, clone_path):\n",
    "    subprocess.run([\"git\", \"clone\", repo_url, clone_path])\n",
    "\n",
    "\n",
    "\n"
   ]
  },
  {
   "cell_type": "code",
   "execution_count": 22,
   "id": "fa14d9cf",
   "metadata": {},
   "outputs": [],
   "source": [
    "# Define an array of search queries\n",
    "search_queries = [\n",
    "    'assembly transcript RNA-seq',\n",
    "    'protein structure prediction',\n",
    "    'gene expression quantification',\n",
    "    'biological sequence analysis',\n",
    "    'metagenomics data analysis',\n",
    "    'phylogenetic analysis',\n",
    "    'mass spectrometry data analysis',\n",
    "    'microarray data processing',\n",
    "    'molecular docking simulations',\n",
    "    'single-cell sequencing analysis'\n",
    "]\n",
    "\n",
    "# Define paths for questions, answers, and repositories\n",
    "base_path = \"D:\\\\Halima's Data\\\\NLP\\\\project\\\\usingGithub\\\\\"\n",
    "questions_path = os.path.join(base_path, \"question\\\\\")\n",
    "answers_path = os.path.join(base_path, \"questions_answers\\\\\")\n",
    "repos_path = os.path.join(base_path, \"repositories\\\\\")\n",
    "\n",
    "# Ensure the directories exist\n",
    "os.makedirs(questions_path, exist_ok=True)\n",
    "os.makedirs(answers_path, exist_ok=True)\n",
    "os.makedirs(repos_path, exist_ok=True)\n"
   ]
  },
  {
   "cell_type": "code",
   "execution_count": null,
   "id": "004ab4e3",
   "metadata": {},
   "outputs": [],
   "source": [
    "# Loop through each search query\n",
    "for query_number, search_query in enumerate(search_queries, start=1):\n",
    "    api_endpoint = f'https://api.github.com/search/repositories?q={search_query}'\n",
    "    response = requests.get(api_endpoint)\n",
    "    if response.status_code == 200:\n",
    "        search_results = response.json()\n",
    "        for i, repo in enumerate(search_results['items'], start=1):\n",
    "            # Construct file names\n",
    "            if i == 10 :\n",
    "                break;\n",
    "            else:    \n",
    "                question_file_name = f\"question_{query_number}_{i}.txt\"\n",
    "                answer_file_name = f\"question_ans_{query_number}_{i}.txt\"\n",
    "                repo_dir_name = f\"question_ans_{query_number}_{i}_{repo['name']}\"\n",
    "\n",
    "                # Save the question\n",
    "                question_content = f\"Search Query: {search_query}\\nRepository name: {repo['full_name']}\\nRepository URL: {repo['html_url']}\\nDescription: {repo['description']}\\n\"\n",
    "                save_content_to_file(questions_path, question_file_name, question_content)\n",
    "\n",
    "                # Fetch the README content and save the answer\n",
    "                readme_content = get_readme_content(repo['full_name'])\n",
    "                save_content_to_file(answers_path, answer_file_name, readme_content)\n",
    "\n",
    "                # Clone the repository\n",
    "                clone_repository(repo['clone_url'], os.path.join(repos_path, repo_dir_name))\n",
    "    else:\n",
    "        print(f\"Failed to retrieve data for query '{search_query}': {response.status_code}\")"
   ]
  },
  {
   "cell_type": "code",
   "execution_count": null,
   "id": "797ac378",
   "metadata": {},
   "outputs": [],
   "source": []
  }
 ],
 "metadata": {
  "kernelspec": {
   "display_name": "Python 3 (ipykernel)",
   "language": "python",
   "name": "python3"
  },
  "language_info": {
   "codemirror_mode": {
    "name": "ipython",
    "version": 3
   },
   "file_extension": ".py",
   "mimetype": "text/x-python",
   "name": "python",
   "nbconvert_exporter": "python",
   "pygments_lexer": "ipython3",
   "version": "3.9.12"
  }
 },
 "nbformat": 4,
 "nbformat_minor": 5
}
